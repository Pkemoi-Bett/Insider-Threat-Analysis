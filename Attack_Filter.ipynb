{
  "cells": [
    {
      "cell_type": "markdown",
      "metadata": {
        "id": "view-in-github",
        "colab_type": "text"
      },
      "source": [
        "<a href=\"https://colab.research.google.com/github/Pkemoi-Bett/Insider-Threat/blob/main/Attack_Filter.ipynb\" target=\"_parent\"><img src=\"https://colab.research.google.com/assets/colab-badge.svg\" alt=\"Open In Colab\"/></a>"
      ]
    },
    {
      "cell_type": "code",
      "source": [
        "from google.colab import drive\n",
        "drive.mount(\"/content/drive\")"
      ],
      "metadata": {
        "colab": {
          "base_uri": "https://localhost:8080/"
        },
        "id": "dIU8AJ3Kq9ou",
        "outputId": "b3d54ae7-df5b-4845-da1d-dddaa3d429cc"
      },
      "id": "dIU8AJ3Kq9ou",
      "execution_count": 1,
      "outputs": [
        {
          "output_type": "stream",
          "name": "stdout",
          "text": [
            "Mounted at /content/drive\n"
          ]
        }
      ]
    },
    {
      "cell_type": "code",
      "source": [
        "file_path = '/content/drive/My Drive/Insider Threat dataset/Anomaly Detection/'"
      ],
      "metadata": {
        "id": "e34X_VanrCOd"
      },
      "id": "e34X_VanrCOd",
      "execution_count": 2,
      "outputs": []
    },
    {
      "cell_type": "code",
      "execution_count": 4,
      "id": "f1c4dcc4-ccab-434d-a01b-ad0b49fe2486",
      "metadata": {
        "colab": {
          "base_uri": "https://localhost:8080/"
        },
        "id": "f1c4dcc4-ccab-434d-a01b-ad0b49fe2486",
        "outputId": "059fd75c-1f76-4d2f-82d6-8652fb01a778"
      },
      "outputs": [
        {
          "output_type": "stream",
          "name": "stdout",
          "text": [
            "This process may take sometimes depending on the computer processor.\n",
            "\n",
            "\n",
            "\n",
            "Bot file is completed\n",
            " attack:1966\n",
            " benign:4238\n",
            "\n",
            "\n",
            " \n",
            "DDoS file is completed\n",
            " attack:41835\n",
            " benign:91410\n",
            "\n",
            "\n",
            " \n",
            "DoS GoldenEye file is completed\n",
            " attack:10293\n",
            " benign:22513\n",
            "\n",
            "\n",
            " \n",
            "DoS Hulk file is completed\n",
            " attack:231073\n",
            " benign:550221\n",
            "\n",
            "\n",
            " \n",
            "DoS Slowhttptest file is completed\n",
            " attack:5499\n",
            " benign:11992\n",
            "\n",
            "\n",
            " \n",
            "DoS slowloris file is completed\n",
            " attack:5796\n",
            " benign:12675\n",
            "\n",
            "\n",
            " \n",
            "FTP-Patator file is completed\n",
            " attack:7938\n",
            " benign:17289\n",
            "\n",
            "\n",
            " \n",
            "Heartbleed file is completed\n",
            " attack:11\n",
            " benign:24\n",
            "\n",
            "\n",
            " \n",
            "Infiltration file is completed\n",
            " attack:36\n",
            " benign:81\n",
            "\n",
            "\n",
            " \n",
            "PortScan file is completed\n",
            " attack:158930\n",
            " benign:367184\n",
            "\n",
            "\n",
            " \n",
            "SSH-Patator file is completed\n",
            " attack:5897\n",
            " benign:12967\n",
            "\n",
            "\n",
            " \n",
            "Web Attack – Brute Force file is completed\n",
            " attack:0\n",
            " benign:3244\n",
            "\n",
            "\n",
            " \n",
            "Web Attack – XSS file is completed\n",
            " attack:0\n",
            " benign:1421\n",
            "\n",
            "\n",
            " \n",
            "Web Attack – Sql Injection file is completed\n",
            " attack:0\n",
            " benign:53\n",
            "\n",
            "\n",
            " \n",
            "Attack Filter process has been completed!\n",
            "operation time: =  245.50878524780273 seconds\n"
          ]
        }
      ],
      "source": [
        "import random\n",
        "import os\n",
        "import pandas as pd\n",
        "import time\n",
        "\n",
        "seconds = time.time()\n",
        "%matplotlib inline\n",
        "\n",
        "def folder(f_name):\n",
        "    try:\n",
        "        if not os.path.exists(f_name):\n",
        "            os.makedirs(f_name)\n",
        "    except OSError:\n",
        "        print(\"The folder could not be created!\")\n",
        "\n",
        "print(\"This process may take sometimes depending on the computer processor.\\n\\n\\n\")\n",
        "main_labels = [\"Flow ID\", \"Source IP\", \"Source Port\", \"Destination IP\", \"Destination Port\", \"Protocol\", \"Timestamp\", \"Flow Duration\", \"Total Fwd Packets\",\n",
        "               \"Total Backward Packets\", \"Total Length of Fwd Packets\", \"Total Length of Bwd Packets\", \"Fwd Packet Length Max\", \"Fwd Packet Length Min\",\n",
        "               \"Fwd Packet Length Mean\", \"Fwd Packet Length Std\", \"Bwd Packet Length Max\", \"Bwd Packet Length Min\", \"Bwd Packet Length Mean\", \"Bwd Packet Length Std\",\n",
        "               \"Flow Bytes/s\", \"Flow Packets/s\", \"Flow IAT Mean\", \"Flow IAT Std\", \"Flow IAT Max\", \"Flow IAT Min\", \"Fwd IAT Total\", \"Fwd IAT Mean\", \"Fwd IAT Std\", \"Fwd IAT Max\",\n",
        "               \"Fwd IAT Min\", \"Bwd IAT Total\", \"Bwd IAT Mean\", \"Bwd IAT Std\", \"Bwd IAT Max\", \"Bwd IAT Min\", \"Fwd PSH Flags\", \"Bwd PSH Flags\", \"Fwd URG Flags\", \"Bwd URG Flags\",\n",
        "               \"Fwd Header Length\", \"Bwd Header Length\", \"Fwd Packets/s\", \"Bwd Packets/s\", \"Min Packet Length\", \"Max Packet Length\", \"Packet Length Mean\", \"Packet Length Std\",\n",
        "               \"Packet Length Variance\", \"FIN Flag Count\", \"SYN Flag Count\", \"RST Flag Count\", \"PSH Flag Count\", \"ACK Flag Count\", \"URG Flag Count\", \"CWE Flag Count\",\n",
        "               \"ECE Flag Count\", \"Down/Up Ratio\", \"Average Packet Size\", \"Avg Fwd Segment Size\", \"Avg Bwd Segment Size\", \"Fwd Avg Bytes/Bulk\",\n",
        "               \"Fwd Avg Packets/Bulk\", \"Fwd Avg Bulk Rate\", \"Bwd Avg Bytes/Bulk\", \"Bwd Avg Packets/Bulk\", \"Bwd Avg Bulk Rate\", \"Subflow Fwd Packets\", \"Subflow Fwd Bytes\",\n",
        "               \"Subflow Bwd Packets\", \"Subflow Bwd Bytes\", \"Init_Win_bytes_forward\", \"Init_Win_bytes_backward\", \"act_data_pkt_fwd\",\n",
        "               \"min_seg_size_forward\", \"Active Mean\", \"Active Std\", \"Active Max\", \"Active Min\", \"Idle Mean\", \"Idle Std\", \"Idle Max\", \"Idle Min\", \"Label\", \"External IP\"]\n",
        "main_labels = \",\".join(i for i in main_labels)\n",
        "\n",
        "attacks = [\"BENIGN\", \"Bot\", \"DDoS\", \"DoS GoldenEye\", \"DoS Hulk\", \"DoS Slowhttptest\", \"DoS slowloris\", \"FTP-Patator\", \"Heartbleed\", \"Infiltration\", \"PortScan\", \"SSH-Patator\", \"Web Attack – Brute Force\", \"Web Attack – Sql Injection\", \"Web Attack – XSS\"]\n",
        "folder(\"./attacks/\")\n",
        "\n",
        "benign = 2359289\n",
        "\n",
        "dict_attack = {\n",
        "    \"Bot\": 1966,\n",
        "    \"DDoS\": 41835,\n",
        "    \"DoS GoldenEye\": 10293,\n",
        "    \"DoS Hulk\": 231073,\n",
        "    \"DoS Slowhttptest\": 5499,\n",
        "    \"DoS slowloris\": 5796,\n",
        "    \"FTP-Patator\": 7938,\n",
        "    \"Heartbleed\": 11,\n",
        "    \"Infiltration\": 36,\n",
        "    \"PortScan\": 158930,\n",
        "    \"SSH-Patator\": 5897,\n",
        "    \"Web Attack – Brute Force\": 1507,\n",
        "    \"Web Attack – XSS\": 652,\n",
        "    \"Web Attack – Sql Injection\": 21\n",
        "}\n",
        "\n",
        "for i in dict_attack:\n",
        "    a, b = 0, 0\n",
        "    ths = open(\"./attacks/\" + i + \".csv\", \"w\")\n",
        "    ths.write(str(main_labels) + \"\\n\")\n",
        "    benign_num = int(benign / (dict_attack[i] * (7 / 3)))\n",
        "    with open(\"/content/drive/My Drive/Insider Threat dataset/Anomaly Detection/all_data.csv\", \"r\") as file:\n",
        "        while True:\n",
        "            try:\n",
        "                line = file.readline()\n",
        "                line = line[:-1]\n",
        "                k = line.split(\",\")\n",
        "                if k[83] == \"BENIGN\":\n",
        "                    rnd = random.randint(1, benign_num)\n",
        "                    if rnd == 1:\n",
        "                        ths.write(str(line) + \"\\n\")\n",
        "                        b += 1\n",
        "                if k[83] == i:\n",
        "                    ths.write(str(line) + \"\\n\")\n",
        "                    a += 1\n",
        "                else:\n",
        "                    continue\n",
        "            except:\n",
        "                break\n",
        "    ths.close()\n",
        "    print(i, \"file is completed\\n attack:%d\\n benign:%d\\n\\n\\n \" % (a, b))\n",
        "\n",
        "webs = [\"Web Attack – Brute Force\", \"Web Attack – XSS\", \"Web Attack – Sql Injection\"]\n",
        "flag = True\n",
        "\n",
        "for i in webs:\n",
        "    df = pd.read_csv(\"./attacks/\" + str(i) + \".csv\")\n",
        "    if flag:\n",
        "        df.to_csv('./attacks/Web Attack.csv', index=False)\n",
        "        flag = False\n",
        "    else:\n",
        "        df.to_csv('./attacks/Web Attack.csv', index=False, header=False, mode=\"a\")\n",
        "    os.remove(\"./attacks/\" + str(i) + \".csv\")\n",
        "\n",
        "print(\"Attack Filter process has been completed!\")\n",
        "print(\"operation time: = \", time.time() - seconds, \"seconds\")\n"
      ]
    },
    {
      "cell_type": "code",
      "execution_count": null,
      "id": "6a9b28b9-98ea-4396-a4ca-20c628c1c947",
      "metadata": {
        "id": "6a9b28b9-98ea-4396-a4ca-20c628c1c947"
      },
      "outputs": [],
      "source": []
    }
  ],
  "metadata": {
    "kernelspec": {
      "display_name": "Python 3 (ipykernel)",
      "language": "python",
      "name": "python3"
    },
    "language_info": {
      "codemirror_mode": {
        "name": "ipython",
        "version": 3
      },
      "file_extension": ".py",
      "mimetype": "text/x-python",
      "name": "python",
      "nbconvert_exporter": "python",
      "pygments_lexer": "ipython3",
      "version": "3.11.7"
    },
    "colab": {
      "provenance": [],
      "include_colab_link": true
    }
  },
  "nbformat": 4,
  "nbformat_minor": 5
}